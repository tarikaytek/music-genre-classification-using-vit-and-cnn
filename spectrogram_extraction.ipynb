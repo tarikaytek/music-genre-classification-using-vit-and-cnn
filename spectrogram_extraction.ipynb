{
 "cells": [
  {
   "cell_type": "code",
   "execution_count": 3,
   "metadata": {},
   "outputs": [],
   "source": [
    "import os\n",
    "import librosa\n",
    "import numpy as np\n",
    "import matplotlib.pyplot as plt"
   ]
  },
  {
   "cell_type": "code",
   "execution_count": 21,
   "metadata": {},
   "outputs": [],
   "source": [
    "# Path of folder with the track files to be used for feature extraction \n",
    "dataset_path = 'C:\\\\20+\\\\bitirme\\\\Data\\\\genres_original'\n",
    "\n",
    "# Where to write the extracted spectrogram images\n",
    "imgs_path = 'C:\\\\20+\\\\bitirme\\\\spectrograms'"
   ]
  },
  {
   "cell_type": "code",
   "execution_count": 22,
   "metadata": {},
   "outputs": [],
   "source": [
    "# Setting pathes for the images to be extracted\n",
    "stft_imgs_path = os.path.join(imgs_path, 'stft')\n",
    "mel_imgs_path = os.path.join(imgs_path, 'mel')\n",
    "\n",
    "if not os.path.exists(imgs_path):\n",
    "    # Create folders for stft and mel spectrograms for each genre \n",
    "    os.makedirs(imgs_path)\n",
    "    os.makedirs(stft_imgs_path)\n",
    "    os.makedirs(mel_imgs_path)\n",
    "    for genre in os.listdir(dataset_path):\n",
    "        os.makedirs(os.path.join(stft_imgs_path, genre))\n",
    "        os.makedirs(os.path.join(mel_imgs_path, genre))"
   ]
  },
  {
   "cell_type": "code",
   "execution_count": 26,
   "metadata": {},
   "outputs": [],
   "source": [
    "def extract_spectrogram(file_path, target_path, type):\n",
    "    try:\n",
    "        # Load the file\n",
    "        y, sr = librosa.load(file_path, sr=None)\n",
    "\n",
    "        # Create the spectrogram \n",
    "        if type == 'stft':\n",
    "            D = librosa.stft(y)\n",
    "        elif type == 'mel':\n",
    "            D = librosa.feature.melspectrogram(y=y, sr=sr)\n",
    "\n",
    "        # Convert amplitude spectrogram to dB scale\n",
    "        D_db = librosa.amplitude_to_db(np.abs(D), ref=np.max)\n",
    "\n",
    "        fig, ax = plt.subplots(figsize=(10, 4))  # Adjust the figure size as needed\n",
    "        ax.set_axis_off()   # Remove axis from the image as they are not needed for ML\n",
    "\n",
    "        # Display the spectrogram on the axis without axis labels, scales, or units\n",
    "        librosa.display.specshow(D_db, sr=sr, x_axis=None, y_axis=None, ax=ax)\n",
    "\n",
    "        # Save the spectrogram to the target_path. // Saves without output\n",
    "        plt.savefig(target_path, bbox_inches='tight', pad_inches=0, transparent=True)\n",
    "\n",
    "        # Close the figure to free up resources\n",
    "        plt.close()\n",
    "\n",
    "    except Exception as e:\n",
    "        print(f\"Error processing {file_path}: {e}\")"
   ]
  },
  {
   "cell_type": "code",
   "execution_count": null,
   "metadata": {},
   "outputs": [],
   "source": [
    "## Travers in dataset path to process each track\n",
    "\n",
    "for genre in os.listdir(dataset_path):\n",
    "    genre_path = os.path.join(dataset_path, genre)\n",
    "\n",
    "    for track in os.listdir(genre_path):\n",
    "        file_path = os.path.join(genre_path, track)\n",
    "\n",
    "        track_name, _ = os.path.splitext(track) # Removing .wav extension for naming\n",
    "        \n",
    "        target_path_stft = os.path.join(stft_imgs_path, genre, track_name + \"_stft.png\")\n",
    "        extract_spectrogram(file_path, target_path_stft, type='stft')\n",
    "        \n",
    "        target_path_mel = os.path.join(mel_imgs_path, genre, track_name + \"_mel.png\")\n",
    "        extract_spectrogram(file_path, target_path_mel, type='mel')\n",
    "    \n",
    "    print(f\"Extraction of {genre} genre is done\")"
   ]
  }
 ],
 "metadata": {
  "kernelspec": {
   "display_name": "Python 3",
   "language": "python",
   "name": "python3"
  },
  "language_info": {
   "codemirror_mode": {
    "name": "ipython",
    "version": 3
   },
   "file_extension": ".py",
   "mimetype": "text/x-python",
   "name": "python",
   "nbconvert_exporter": "python",
   "pygments_lexer": "ipython3",
   "version": "3.10.7"
  },
  "orig_nbformat": 4
 },
 "nbformat": 4,
 "nbformat_minor": 2
}
